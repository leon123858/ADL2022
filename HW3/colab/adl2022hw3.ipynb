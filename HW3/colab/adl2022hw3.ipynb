{
  "cells": [
    {
      "cell_type": "markdown",
      "metadata": {
        "id": "2w62XvNg8OAA"
      },
      "source": [
        "連接 drive"
      ]
    },
    {
      "cell_type": "code",
      "execution_count": null,
      "metadata": {
        "id": "PudUEcoT8Ika"
      },
      "outputs": [],
      "source": [
        "import os\n",
        "\n",
        "from google.colab import drive\n",
        "drive.mount('/content/drive')\n",
        "path='/content/drive/My Drive/Colab_Notebooks/HW3'\n",
        "##進入專案目錄\n",
        "os.chdir(path) #切換該目錄\n",
        "os.listdir() #確認目錄內容"
      ]
    },
    {
      "cell_type": "markdown",
      "metadata": {
        "id": "Qp-weRajQoxW"
      },
      "source": [
        "下載資料"
      ]
    },
    {
      "cell_type": "code",
      "execution_count": null,
      "metadata": {
        "id": "OQkw2v2YQqj6"
      },
      "outputs": [],
      "source": [
        "os.chdir(path + '/data')\n",
        "!gdown '19b-RnXuAFhXhEHW7ah0M-pQsxHr1cPsZ'\n",
        "!unzip -o hw3data.zip"
      ]
    },
    {
      "cell_type": "markdown",
      "metadata": {
        "id": "lFu--Arz9rm6"
      },
      "source": [
        "執行 preprocess"
      ]
    },
    {
      "cell_type": "code",
      "execution_count": 3,
      "metadata": {
        "id": "A8soiKSI9vBU"
      },
      "outputs": [],
      "source": [
        "os.chdir(path + '/src')\n",
        "!python preprocess.py -d ../data/train.jsonl -t ../cache/train.json && python preprocess.py -d ../data/public.jsonl -t ../cache/dev.json && python preprocess.py -d ../data/public.jsonl -t ../cache/test.json --no-ans"
      ]
    },
    {
      "cell_type": "markdown",
      "metadata": {
        "id": "j9OC1byR_XgT"
      },
      "source": [
        "安裝模型訓練相依套件"
      ]
    },
    {
      "cell_type": "code",
      "execution_count": null,
      "metadata": {
        "id": "f4dfn6a1_bRP"
      },
      "outputs": [],
      "source": [
        "os.chdir(path + '/libs/summarization')\n",
        "!pip install -r requirements.txt\n",
        "!pip install transformers"
      ]
    },
    {
      "cell_type": "markdown",
      "metadata": {
        "id": "OC7PF7ax_R4S"
      },
      "source": [
        "訓練模型"
      ]
    },
    {
      "cell_type": "code",
      "execution_count": null,
      "metadata": {
        "id": "L6fnsNGu_WIK"
      },
      "outputs": [],
      "source": [
        "os.chdir(path + '/src')\n",
        "!bash process.sh ../cache/train.json ../cache/dev.json ../model"
      ]
    },
    {
      "cell_type": "markdown",
      "metadata": {
        "id": "51irNqCIN7Cz"
      },
      "source": [
        "測試模型"
      ]
    },
    {
      "cell_type": "code",
      "execution_count": null,
      "metadata": {
        "colab": {
          "base_uri": "https://localhost:8080/"
        },
        "id": "FaJQzF8lepB4",
        "outputId": "5e77d174-f107-41c1-d299-3d101cd8db60"
      },
      "outputs": [],
      "source": [
        "os.chdir(path + '/src')\n",
        "!bash test.sh ../model/model/ ../cache/test.json ../cache ../cache/dev.json"
      ]
    }
  ],
  "metadata": {
    "accelerator": "GPU",
    "colab": {
      "collapsed_sections": [],
      "provenance": []
    },
    "gpuClass": "standard",
    "kernelspec": {
      "display_name": "Python 3",
      "name": "python3"
    },
    "language_info": {
      "name": "python"
    }
  },
  "nbformat": 4,
  "nbformat_minor": 0
}
