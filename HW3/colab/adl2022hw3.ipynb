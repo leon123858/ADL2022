{
  "cells": [
    {
      "cell_type": "markdown",
      "metadata": {
        "id": "2w62XvNg8OAA"
      },
      "source": [
        "連接 drive"
      ]
    },
    {
      "cell_type": "code",
      "execution_count": null,
      "metadata": {
        "id": "PudUEcoT8Ika"
      },
      "outputs": [],
      "source": [
        "import os\n",
        "\n",
        "from google.colab import drive\n",
        "drive.mount('/content/drive')\n",
        "path='/content/drive/My Drive/Colab_Notebooks/HW3'\n",
        "##進入專案目錄\n",
        "os.chdir(path) #切換該目錄\n",
        "os.listdir() #確認目錄內容"
      ]
    },
    {
      "cell_type": "markdown",
      "metadata": {
        "id": "Qp-weRajQoxW"
      },
      "source": [
        "下載資料"
      ]
    },
    {
      "cell_type": "code",
      "execution_count": null,
      "metadata": {
        "id": "OQkw2v2YQqj6"
      },
      "outputs": [],
      "source": [
        "os.chdir(path + '/data')\n",
        "!gdown '19b-RnXuAFhXhEHW7ah0M-pQsxHr1cPsZ'\n",
        "!unzip -o hw3data.zip"
      ]
    },
    {
      "cell_type": "markdown",
      "metadata": {
        "id": "lFu--Arz9rm6"
      },
      "source": [
        "執行 preprocess"
      ]
    },
    {
      "cell_type": "code",
      "execution_count": null,
      "metadata": {
        "id": "A8soiKSI9vBU"
      },
      "outputs": [],
      "source": [
        "os.chdir(path + '/src')\n",
        "!python preprocess.py -d ../data/train.jsonl -t ../cache/train.json && python preprocess.py -d ../data/public.jsonl -t ../cache/dev.json && python preprocess.py -d ../data/public.jsonl -t ../cache/test.json --no-ans\n",
        "!python preprocess.py -d ../data/sample_test.jsonl -t ../cache/sample_test.json --no-ans"
      ]
    },
    {
      "cell_type": "markdown",
      "metadata": {
        "id": "j9OC1byR_XgT"
      },
      "source": [
        "安裝模型訓練相依套件"
      ]
    },
    {
      "cell_type": "code",
      "execution_count": null,
      "metadata": {
        "id": "f4dfn6a1_bRP"
      },
      "outputs": [],
      "source": [
        "os.chdir(path + '/libs/summarization')\n",
        "!pip install -r requirements.txt\n",
        "!pip install transformers"
      ]
    },
    {
      "cell_type": "markdown",
      "metadata": {
        "id": "OC7PF7ax_R4S"
      },
      "source": [
        "訓練模型"
      ]
    },
    {
      "cell_type": "code",
      "execution_count": null,
      "metadata": {
        "id": "L6fnsNGu_WIK"
      },
      "outputs": [],
      "source": [
        "os.chdir(path + '/src')\n",
        "!bash process.sh ../cache/train.json ../cache/dev.json ../model ../model/model 5"
      ]
    },
    {
      "cell_type": "markdown",
      "metadata": {
        "id": "51irNqCIN7Cz"
      },
      "source": [
        "測試模型"
      ]
    },
    {
      "cell_type": "code",
      "execution_count": null,
      "metadata": {
        "id": "tG5lZhLxV6aK"
      },
      "outputs": [],
      "source": [
        "os.chdir(path + '/src')\n",
        "!python test.py -m ../model/model -t ../cache/test.json -d ../cache/submission.jsonl"
      ]
    },
    {
      "cell_type": "markdown",
      "metadata": {
        "id": "mAMz5Fscm-lp"
      },
      "source": [
        "實驗生成策略"
      ]
    },
    {
      "cell_type": "code",
      "execution_count": null,
      "metadata": {
        "id": "TCRShVFIX1Y7"
      },
      "outputs": [],
      "source": [
        "import json\n",
        "from transformers import pipeline\n",
        "os.chdir(path + '/src')\n",
        "summarizer = pipeline(\"summarization\", model='../model/model', device=0, batch_size=4,num_beams=1)\n",
        "with open('../cache/test.json') as f:\n",
        "  for line in f:\n",
        "    obj = json.loads(line)\n",
        "    print(summarizer(obj['text']))"
      ]
    },
    {
      "cell_type": "markdown",
      "metadata": {
        "id": "JfrrSyNOZB9F"
      },
      "source": [
        "計分"
      ]
    },
    {
      "cell_type": "code",
      "execution_count": null,
      "metadata": {
        "id": "k6TDqY5MZEn1"
      },
      "outputs": [],
      "source": [
        "# 安裝套件\n",
        "os.chdir(path + '/libs/rouge')\n",
        "!pip install -e tw_rouge"
      ]
    },
    {
      "cell_type": "code",
      "execution_count": null,
      "metadata": {
        "id": "mA8IVwLWZhe7"
      },
      "outputs": [],
      "source": [
        "# 執行計分腳本\n",
        "os.chdir(path + '/libs/rouge')\n",
        "!python eval.py -r ../../data/public.jsonl -s ../../cache/submission.jsonl"
      ]
    }
  ],
  "metadata": {
    "accelerator": "GPU",
    "colab": {
      "provenance": []
    },
    "gpuClass": "standard",
    "kernelspec": {
      "display_name": "Python 3.9.13 ('adl')",
      "language": "python",
      "name": "python3"
    },
    "language_info": {
      "name": "python",
      "version": "3.9.13"
    },
    "vscode": {
      "interpreter": {
        "hash": "ccb1661c9d55548bc588a5cf1cbbb1668e61baa00474ca106e306b6536097a4b"
      }
    }
  },
  "nbformat": 4,
  "nbformat_minor": 0
}
