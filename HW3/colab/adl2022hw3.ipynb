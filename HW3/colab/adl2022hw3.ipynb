{
  "cells": [
    {
      "cell_type": "markdown",
      "metadata": {
        "id": "2w62XvNg8OAA"
      },
      "source": [
        "連接 drive"
      ]
    },
    {
      "cell_type": "code",
      "execution_count": null,
      "metadata": {
        "id": "PudUEcoT8Ika"
      },
      "outputs": [],
      "source": [
        "import os\n",
        "\n",
        "from google.colab import drive\n",
        "drive.mount('/content/drive')\n",
        "path='/content/drive/My Drive/Colab_Notebooks/HW3'\n",
        "##進入專案目錄\n",
        "os.chdir(path) #切換該目錄\n",
        "os.listdir() #確認目錄內容"
      ]
    },
    {
      "cell_type": "markdown",
      "metadata": {
        "id": "Qp-weRajQoxW"
      },
      "source": [
        "下載資料"
      ]
    },
    {
      "cell_type": "code",
      "execution_count": null,
      "metadata": {
        "id": "OQkw2v2YQqj6"
      },
      "outputs": [],
      "source": [
        "os.chdir(path + '/data')\n",
        "!gdown '19b-RnXuAFhXhEHW7ah0M-pQsxHr1cPsZ'\n",
        "!unzip -o hw3data.zip"
      ]
    },
    {
      "cell_type": "markdown",
      "metadata": {
        "id": "lFu--Arz9rm6"
      },
      "source": [
        "執行 preprocess"
      ]
    },
    {
      "cell_type": "code",
      "execution_count": null,
      "metadata": {
        "id": "A8soiKSI9vBU"
      },
      "outputs": [],
      "source": [
        "os.chdir(path + '/src')\n",
        "!python preprocess.py -d ../data/train.jsonl -t ../cache/train.json && python preprocess.py -d ../data/public.jsonl -t ../cache/dev.json && python preprocess.py -d ../data/public.jsonl -t ../cache/test.json --no-ans"
      ]
    },
    {
      "cell_type": "markdown",
      "metadata": {
        "id": "j9OC1byR_XgT"
      },
      "source": [
        "安裝模型訓練相依套件"
      ]
    },
    {
      "cell_type": "code",
      "execution_count": null,
      "metadata": {
        "id": "f4dfn6a1_bRP"
      },
      "outputs": [],
      "source": [
        "os.chdir(path + '/libs/summarization')\n",
        "!pip install -r requirements.txt\n",
        "!pip install transformers"
      ]
    },
    {
      "cell_type": "markdown",
      "metadata": {
        "id": "OC7PF7ax_R4S"
      },
      "source": [
        "訓練模型"
      ]
    },
    {
      "cell_type": "code",
      "execution_count": null,
      "metadata": {
        "id": "HldtzEVLmzx8"
      },
      "outputs": [],
      "source": [
        "os.chdir(path + '/src')\n",
        "!bash process.sh ../cache/train.json ../cache/dev.json ../model google/mt5-small"
      ]
    },
    {
      "cell_type": "markdown",
      "metadata": {
        "id": "51irNqCIN7Cz"
      },
      "source": [
        "測試模型"
      ]
    },
    {
      "cell_type": "code",
      "execution_count": null,
      "metadata": {
        "id": "tG5lZhLxV6aK"
      },
      "outputs": [],
      "source": [
        "os.chdir(path + '/src')\n",
        "!bash test.sh ../cache/test.json ../cache/dev.json ../cache google/mt5-small"
      ]
    },
    {
      "cell_type": "code",
      "execution_count": null,
      "metadata": {
        "id": "bZRT1KYUI_nA"
      },
      "outputs": [],
      "source": [
        "os.chdir(path + '/src')\n",
        "!python postprocess.py -o ../cache/test.json -t ../cache/generated_predictions.txt -d ../cache/submission.jsonl"
      ]
    },
    {
      "cell_type": "markdown",
      "metadata": {
        "id": "mAMz5Fscm-lp"
      },
      "source": [
        "實驗生成策略"
      ]
    },
    {
      "cell_type": "code",
      "execution_count": null,
      "metadata": {
        "id": "TCRShVFIX1Y7"
      },
      "outputs": [],
      "source": [
        "import json\n",
        "from transformers import pipeline\n",
        "os.chdir(path + '/src')\n",
        "summarizer = pipeline(\"summarization\", model='../model', batch_size=4, device=0, max_length=20, do_sample=True, top_k=3)\n",
        "with open('../cache/test.json') as f:\n",
        "  for line in f:\n",
        "    obj = json.loads(line)\n",
        "    print(summarizer(obj['text']))"
      ]
    },
    {
      "cell_type": "markdown",
      "metadata": {
        "id": "JfrrSyNOZB9F"
      },
      "source": [
        "計分"
      ]
    },
    {
      "cell_type": "code",
      "execution_count": null,
      "metadata": {
        "id": "k6TDqY5MZEn1"
      },
      "outputs": [],
      "source": [
        "# 安裝套件\n",
        "os.chdir(path + '/libs/rouge')\n",
        "!pip install -e tw_rouge"
      ]
    },
    {
      "cell_type": "code",
      "execution_count": null,
      "metadata": {
        "id": "mA8IVwLWZhe7"
      },
      "outputs": [],
      "source": [
        "# 執行計分腳本\n",
        "os.chdir(path + '/libs/rouge')\n",
        "!python eval.py -r ../../data/public.jsonl -s ../../cache/submission.jsonl"
      ]
    },
    {
      "cell_type": "markdown",
      "metadata": {
        "id": "j1rjm9sbb4ab"
      },
      "source": [
        "繪圖"
      ]
    },
    {
      "cell_type": "code",
      "execution_count": 2,
      "metadata": {
        "id": "xOr9mgHSb37K"
      },
      "outputs": [],
      "source": [
        "data = [{\n",
        "  \"rouge-1\": {\n",
        "    \"r\": 0.2239020253726327,\n",
        "    \"p\": 0.2987549567901063,\n",
        "    \"f\": 0.24952843916581152\n",
        "  },\n",
        "  \"rouge-2\": {\n",
        "    \"r\": 0.08949925556786237,\n",
        "    \"p\": 0.12071952767604702,\n",
        "    \"f\": 0.10008353530115667\n",
        "  },\n",
        "  \"rouge-l\": {\n",
        "    \"r\": 0.20256687618597122,\n",
        "    \"p\": 0.2695475725925197,\n",
        "    \"f\": 0.22540043410896224\n",
        "  }\n",
        "}\n",
        ",\n",
        "{\n",
        "  \"rouge-1\": {\n",
        "    \"r\": 0.22476110427652896,\n",
        "    \"p\": 0.3004566690931736,\n",
        "    \"f\": 0.2507010436437336\n",
        "  },\n",
        "  \"rouge-2\": {\n",
        "    \"r\": 0.08871259372337557,\n",
        "    \"p\": 0.11928301521387026,\n",
        "    \"f\": 0.09911552887345927\n",
        "  },\n",
        "  \"rouge-l\": {\n",
        "    \"r\": 0.20303821187372498,\n",
        "    \"p\": 0.27045797464703414,\n",
        "    \"f\": 0.22604723470224983\n",
        "  }\n",
        "}\n",
        ",\n",
        "{\n",
        "  \"rouge-1\": {\n",
        "    \"r\": 0.22275188793458928,\n",
        "    \"p\": 0.30028125476729534,\n",
        "    \"f\": 0.24892231678917565\n",
        "  },\n",
        "  \"rouge-2\": {\n",
        "    \"r\": 0.08860175660888013,\n",
        "    \"p\": 0.11976415732505273,\n",
        "    \"f\": 0.09902741597367631\n",
        "  },\n",
        "  \"rouge-l\": {\n",
        "    \"r\": 0.20166158930934372,\n",
        "    \"p\": 0.2710960499423555,\n",
        "    \"f\": 0.22496650302955473\n",
        "  }\n",
        "}\n",
        ",\n",
        "{\n",
        "  \"rouge-1\": {\n",
        "    \"r\": 0.21553722196587202,\n",
        "    \"p\": 0.293080303658285,\n",
        "    \"f\": 0.24177408488498417\n",
        "  },\n",
        "  \"rouge-2\": {\n",
        "    \"r\": 0.08577774193560375,\n",
        "    \"p\": 0.11773741049595449,\n",
        "    \"f\": 0.09654427177741884\n",
        "  },\n",
        "  \"rouge-l\": {\n",
        "    \"r\": 0.19509865169969245,\n",
        "    \"p\": 0.26464649153544884,\n",
        "    \"f\": 0.2184953716141435\n",
        "  }\n",
        "}\n",
        ",\n",
        "{\n",
        "  \"rouge-1\": {\n",
        "    \"r\": 0.2113629386602458,\n",
        "    \"p\": 0.29343648112279913,\n",
        "    \"f\": 0.23875507265500098\n",
        "  },\n",
        "  \"rouge-2\": {\n",
        "    \"r\": 0.0832346246697365,\n",
        "    \"p\": 0.11621860350486726,\n",
        "    \"f\": 0.0941651851591165\n",
        "  },\n",
        "  \"rouge-l\": {\n",
        "    \"r\": 0.19074807836602006,\n",
        "    \"p\": 0.26460654143213796,\n",
        "    \"f\": 0.215241818596132\n",
        "  }\n",
        "}\n",
        ",\n",
        "{\n",
        "  \"rouge-1\": {\n",
        "    \"r\": 0.20652853911589733,\n",
        "    \"p\": 0.28863157407541584,\n",
        "    \"f\": 0.23366701517472505\n",
        "  },\n",
        "  \"rouge-2\": {\n",
        "    \"r\": 0.08193322662817831,\n",
        "    \"p\": 0.11434995375189473,\n",
        "    \"f\": 0.09257866640492828\n",
        "  },\n",
        "  \"rouge-l\": {\n",
        "    \"r\": 0.18801950393935934,\n",
        "    \"p\": 0.2623974749103417,\n",
        "    \"f\": 0.21249726000408356\n",
        "  }\n",
        "}\n",
        ",\n",
        "{\n",
        "  \"rouge-1\": {\n",
        "    \"r\": 0.1963135930478937,\n",
        "    \"p\": 0.2892483640134797,\n",
        "    \"f\": 0.22606095683739738\n",
        "  },\n",
        "  \"rouge-2\": {\n",
        "    \"r\": 0.07785764214082286,\n",
        "    \"p\": 0.11312990480914012,\n",
        "    \"f\": 0.08916023843703731\n",
        "  },\n",
        "  \"rouge-l\": {\n",
        "    \"r\": 0.17882596907977544,\n",
        "    \"p\": 0.2635090185724271,\n",
        "    \"f\": 0.20579011925338506\n",
        "  }\n",
        "}\n",
        ",\n",
        "{\n",
        "  \"rouge-1\": {\n",
        "    \"r\": 0.010787018862867424,\n",
        "    \"p\": 0.025906352620923594,\n",
        "    \"f\": 0.014449524849434786\n",
        "  },\n",
        "  \"rouge-2\": {\n",
        "    \"r\": 0.003296113840953794,\n",
        "    \"p\": 0.007997363535223023,\n",
        "    \"f\": 0.0044136199812842974\n",
        "  },\n",
        "  \"rouge-l\": {\n",
        "    \"r\": 0.010312026676351555,\n",
        "    \"p\": 0.02490165362295923,\n",
        "    \"f\": 0.013834216615261793\n",
        "  }\n",
        "}]"
      ]
    },
    {
      "cell_type": "code",
      "source": [
        "def rouge_data(which_rouge,data):\n",
        "  return {\n",
        "      'rouge_r':list(reversed([epoch[which_rouge]['r'] for epoch in data])),\n",
        "      'rouge_p':list(reversed([epoch[which_rouge]['p'] for epoch in data])),\n",
        "      'rouge_f':list(reversed([epoch[which_rouge]['f'] for epoch in data])),\n",
        "  }"
      ],
      "metadata": {
        "id": "p58YhDLAdJCx"
      },
      "execution_count": 17,
      "outputs": []
    },
    {
      "cell_type": "code",
      "source": [
        "import matplotlib.pyplot as plt\n",
        "x = [0,1,2,3,4,5,6,7]\n",
        "plt.title(\"rouge-l curve for 7 epoch\") # title\n",
        "plt.ylabel(\"value\") # y label\n",
        "plt.xlabel(\"epoch\") # x label\n",
        "plt.plot(x,rouge_data('rouge-l',data)['rouge_r'],label='rouge_r')\n",
        "plt.plot(x,rouge_data('rouge-l',data)['rouge_p'],label='rouge_p')\n",
        "plt.plot(x,rouge_data('rouge-l',data)['rouge_f'],label='rouge_f')\n",
        "plt.legend()\n",
        "plt.show()"
      ],
      "metadata": {
        "id": "qBrGiisZcV3z"
      },
      "execution_count": null,
      "outputs": []
    }
  ],
  "metadata": {
    "colab": {
      "provenance": []
    },
    "gpuClass": "standard",
    "kernelspec": {
      "display_name": "Python 3",
      "name": "python3"
    },
    "language_info": {
      "name": "python"
    }
  },
  "nbformat": 4,
  "nbformat_minor": 0
}